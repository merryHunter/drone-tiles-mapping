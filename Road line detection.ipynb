{
 "cells": [
  {
   "cell_type": "code",
   "execution_count": 49,
   "id": "7f6f6fb4",
   "metadata": {},
   "outputs": [],
   "source": [
    "import cv2\n",
    "import matplotlib.pyplot as plt\n",
    "%matplotlib inline\n",
    "import numpy as np \n",
    "import math\n",
    "import imutils\n",
    "import glob\n",
    "from PIL import Image"
   ]
  },
  {
   "cell_type": "code",
   "execution_count": null,
   "id": "dabb1f26",
   "metadata": {},
   "outputs": [],
   "source": [
    "# write kalman filter for tracking points on image\n"
   ]
  },
  {
   "cell_type": "code",
   "execution_count": 3,
   "id": "bf284d1e",
   "metadata": {},
   "outputs": [],
   "source": [
    "drone_img_path = \"test_data/drone/00042.jpeg\"\n",
    "satellite_img_path = \"test_data/satellite/1.png\""
   ]
  },
  {
   "cell_type": "code",
   "execution_count": 4,
   "id": "2f5c50fa",
   "metadata": {},
   "outputs": [],
   "source": [
    "drone_img = cv2.imread(drone_img_path)\n",
    "drone_gray = cv2.cvtColor(drone_img, cv2.COLOR_BGR2GRAY)\n",
    "\n",
    "satellite_img = cv2.imread(satellite_img_path)\n",
    "satellite_gray = cv2.cvtColor(satellite_img, cv2.COLOR_BGR2GRAY)"
   ]
  },
  {
   "cell_type": "code",
   "execution_count": 12,
   "id": "4492ab90",
   "metadata": {},
   "outputs": [],
   "source": [
    "def get_template(img_path):\n",
    "    template = cv2.imread(img_path)\n",
    "    template = cv2.cvtColor(template, cv2.COLOR_BGR2GRAY)\n",
    "    template = cv2.resize(template, (640,480))\n",
    "    template = cv2.Canny(template, 100, 300)\n",
    "    return template"
   ]
  },
  {
   "cell_type": "code",
   "execution_count": 46,
   "id": "694ef41f",
   "metadata": {},
   "outputs": [
    {
     "name": "stdout",
     "output_type": "stream",
     "text": [
      "12\n",
      "24\n",
      "36\n",
      "48\n",
      "60\n",
      "72\n",
      "84\n",
      "96\n",
      "108\n",
      "120\n",
      "132\n",
      "144\n",
      "156\n",
      "168\n",
      "180\n",
      "192\n",
      "204\n",
      "216\n"
     ]
    },
    {
     "name": "stderr",
     "output_type": "stream",
     "text": [
      "[ WARN:0@12897.366] global loadsave.cpp:244 findDecoder imread_('tiles-20-03/Tiles/37.png'): can't open/read file: check file path/integrity\n"
     ]
    },
    {
     "ename": "error",
     "evalue": "OpenCV(4.7.0) /io/opencv/modules/imgproc/src/color.cpp:182: error: (-215:Assertion failed) !_src.empty() in function 'cvtColor'\n",
     "output_type": "error",
     "traceback": [
      "\u001b[0;31m---------------------------------------------------------------------------\u001b[0m",
      "\u001b[0;31merror\u001b[0m                                     Traceback (most recent call last)",
      "Cell \u001b[0;32mIn[46], line 5\u001b[0m\n\u001b[1;32m      2\u001b[0m \u001b[39mfor\u001b[39;00m imagePath \u001b[39min\u001b[39;00m \u001b[39msorted\u001b[39m(glob\u001b[39m.\u001b[39mglob(\u001b[39m\"\u001b[39m\u001b[39mtiles-20-03/jpeg/*.jpeg\u001b[39m\u001b[39m\"\u001b[39m)):\n\u001b[1;32m      3\u001b[0m \t\u001b[39m# loop over the images to \u001b[39;00m\n\u001b[1;32m      4\u001b[0m \timage \u001b[39m=\u001b[39m cv2\u001b[39m.\u001b[39mimread(\u001b[39mf\u001b[39m\u001b[39m\"\u001b[39m\u001b[39mtiles-20-03/Tiles/\u001b[39m\u001b[39m{\u001b[39;00mj\u001b[39m}\u001b[39;00m\u001b[39m.png\u001b[39m\u001b[39m\"\u001b[39m)\n\u001b[0;32m----> 5\u001b[0m \tgray \u001b[39m=\u001b[39m cv2\u001b[39m.\u001b[39;49mcvtColor(image, cv2\u001b[39m.\u001b[39;49mCOLOR_BGR2GRAY)\n\u001b[1;32m      6\u001b[0m \t\u001b[39m# load the image, convert it to grayscale, and initialize the\u001b[39;00m\n\u001b[1;32m      7\u001b[0m \t\u001b[39m# bookkeeping variable to keep track of the matched region\u001b[39;00m\n\u001b[1;32m      8\u001b[0m \tfound \u001b[39m=\u001b[39m \u001b[39mNone\u001b[39;00m\n",
      "\u001b[0;31merror\u001b[0m: OpenCV(4.7.0) /io/opencv/modules/imgproc/src/color.cpp:182: error: (-215:Assertion failed) !_src.empty() in function 'cvtColor'\n"
     ]
    }
   ],
   "source": [
    "i, j = 0, 1\n",
    "for imagePath in sorted(glob.glob(\"tiles-20-03/jpeg/*.jpeg\")):\n",
    "\t# loop over the images to \n",
    "\timage = cv2.imread(f\"tiles-20-03/Tiles/{j}.png\")\n",
    "\tgray = cv2.cvtColor(image, cv2.COLOR_BGR2GRAY)\n",
    "\t# load the image, convert it to grayscale, and initialize the\n",
    "\t# bookkeeping variable to keep track of the matched region\n",
    "\tfound = None\n",
    "\t# loop over the scales of the image\n",
    "\ttemplate = get_template(imagePath)\n",
    "\t(tH, tW) = template.shape[:2]\n",
    "\tfor scale in np.linspace(0.1, 1.0, 10)[::-1]:\n",
    "\t\t# resize the image according to the scale, and keep track\n",
    "\t\t# of the ratio of the resizing\n",
    "\t\tresized = imutils.resize(gray, width = int(gray.shape[1] * scale))\n",
    "\t\tr = gray.shape[1] / float(resized.shape[1])\n",
    "\t\t# if the resized image is smaller than the template, then break\n",
    "\t\t# from the loop\n",
    "\t\tif resized.shape[0] < tH or resized.shape[1] < tW:\n",
    "\t\t\tbreak\n",
    "\t\t# detect edges in the resized, grayscale image and apply template\n",
    "\t\t# matching to find the template in the image\n",
    "\t\tedged = cv2.Canny(resized, 50, 200)\n",
    "\t\tresult = cv2.matchTemplate(edged, template, cv2.TM_CCOEFF)\n",
    "\t\t(_, maxVal, _, maxLoc) = cv2.minMaxLoc(result)\n",
    "\t\t# check to see if the iteration should be visualized\n",
    "\t\tif False:\n",
    "\t\t\t# draw a bounding box around the detected region\n",
    "\t\t\tprint((maxLoc[0], maxLoc[1]))\n",
    "\t\t\tclone = np.dstack([edged, edged, edged])\n",
    "\t\t\tcv2.rectangle(clone, (maxLoc[0], maxLoc[1]),\n",
    "\t\t\t\t(maxLoc[0] + tW, maxLoc[1] + tH), (0, 0, 255), 2)\n",
    "\t\t\tcv2.imshow(\"Visualize\", clone)\n",
    "\t\t# if we have found a new maximum co\trrelation value, then update\n",
    "\t\t# the bookkeeping variable\n",
    "\t\tif found is None or maxVal > found[0]:\n",
    "\t\t\tfound = (maxVal, maxLoc, r)\n",
    "\t# unpack the bookkeeping variable and compute the (x, y) coordinates\n",
    "\t# of the bounding box based on the resized ratio\n",
    "\t(_, maxLoc, r) = found\n",
    "\t(startX, startY) = (int(maxLoc[0] * r), int(maxLoc[1] * r))\n",
    "\t(endX, endY) = (int((maxLoc[0] + tW) * r), int((maxLoc[1] + tH) * r))\n",
    "\t# draw a bounding box around the detected result and display the image\n",
    "\tcv2.circle(image, ((startX + endX) // 2,(startY + endY) //2), 5, (0, 255, 0), 2)\n",
    "\t# print(imagePath)\n",
    "\tcv2.imwrite(imagePath.replace(\"tiles-20-03/jpeg/\", \"results/template-matching2/\"), image)\n",
    "\ti += 1\n",
    "\tif i % 12 == 0:\n",
    "\t\tj += 2\n",
    "\t\tprint(i)"
   ]
  },
  {
   "cell_type": "code",
   "execution_count": 47,
   "id": "e56f2f26",
   "metadata": {},
   "outputs": [],
   "source": [
    "def stitch_images(drone_path, rpath, outpath):\n",
    "    image1 = Image.open(drone_path)\n",
    "    image1 = image1.resize((2096,1395))\n",
    "    image2 = Image.open(rpath)\n",
    "\n",
    "    # Determine the size of the output image\n",
    "    width, height = image1.size\n",
    "    width += image2.size[0]\n",
    "\n",
    "    # Create a new blank image to hold the stitched images\n",
    "    output_image = Image.new(\"RGB\", (width, height))\n",
    "\n",
    "    # Paste the input images onto the output image\n",
    "    output_image.paste(image1, (0, 0))\n",
    "    output_image.paste(image2, (image1.size[0], 0))\n",
    "\n",
    "    # Save the output image\n",
    "    output_image.save(outpath)"
   ]
  },
  {
   "cell_type": "code",
   "execution_count": 48,
   "id": "121224f4",
   "metadata": {},
   "outputs": [],
   "source": [
    "drone_results_imgs = zip(sorted(glob.glob(\"tiles-20-03/jpeg/*.jpeg\")), sorted(glob.glob(\"results/template-matching2/*.jpeg\")))\n",
    "for x,y in drone_results_imgs:\n",
    "    stitch_images(x,y, x.replace(\"tiles-20-03/jpeg/\", \"results/tm-stitched/\"))"
   ]
  },
  {
   "cell_type": "code",
   "execution_count": 22,
   "id": "95256efc",
   "metadata": {},
   "outputs": [
    {
     "data": {
      "text/plain": [
       "<zip at 0x7fafdc438300>"
      ]
     },
     "execution_count": 22,
     "metadata": {},
     "output_type": "execute_result"
    }
   ],
   "source": [
    "drone_results_imgs"
   ]
  },
  {
   "cell_type": "code",
   "execution_count": null,
   "id": "789d4c52",
   "metadata": {},
   "outputs": [],
   "source": []
  }
 ],
 "metadata": {
  "kernelspec": {
   "display_name": "Python 3 (ipykernel)",
   "language": "python",
   "name": "python3"
  },
  "language_info": {
   "codemirror_mode": {
    "name": "ipython",
    "version": 3
   },
   "file_extension": ".py",
   "mimetype": "text/x-python",
   "name": "python",
   "nbconvert_exporter": "python",
   "pygments_lexer": "ipython3",
   "version": "3.8.10"
  }
 },
 "nbformat": 4,
 "nbformat_minor": 5
}
